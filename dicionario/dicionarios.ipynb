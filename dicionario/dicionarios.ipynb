{
 "cells": [
  {
   "cell_type": "markdown",
   "metadata": {},
   "source": [
    "### Exercício 1\n",
    "Crie um sistema de consulta de preços\n",
    "Seu sistema deve:\n",
    "- Pedir para o usuário o nome de um produto\n",
    "- Caso o produto exista na lista de produtos, o programa deve retornar o preço do produto como resposta\n",
    "       - Ex: O produto celular custa R$1500\n",
    "- Caso o produto não exista na lista de produtos, o programa deve printar uma mensagem para o usuário tentar novamente\n"
   ]
  },
  {
   "cell_type": "code",
   "execution_count": 5,
   "metadata": {},
   "outputs": [
    {
     "name": "stdout",
     "output_type": "stream",
     "text": [
      "Este produto não está cadastrado, tente novamente!\n",
      "O valor do camera é de R$1000.00\n"
     ]
    }
   ],
   "source": [
    "precos = {\"celular\": 1500, \"camera\": 1000, \"fone de ouvido\": 800, \"monitor\": 2000}\n",
    "produto_desejado = input('Qual produto você quer saber o valor: ')\n",
    "while not produto_desejado in precos:\n",
    "    print('Este produto não está cadastrado, tente novamente!')\n",
    "    produto_desejado = input('Qual produto você quer saber o valor: ')\n",
    "\n",
    "print('O valor do {} é de R${:.2f}'.format(produto_desejado, precos[produto_desejado]))\n"
   ]
  },
  {
   "cell_type": "markdown",
   "metadata": {},
   "source": [
    "\n",
    "### Exercício 2\n",
    "Agora edite o programa anterior para fazer com que, caso não exista o produto, o programa pergunte se o usuário quer cadastrar o produto\n",
    "<br>Se ele responder sim, o programa deve pedir o nome do produto e o preco do produto e cadastrar no dicionário de preços\n",
    "<br>Em seguida do cadastro bem sucedido, o programa deve printar o dicionário de precos atualizado\n"
   ]
  },
  {
   "cell_type": "code",
   "execution_count": 9,
   "metadata": {},
   "outputs": [
    {
     "name": "stdout",
     "output_type": "stream",
     "text": [
      "Cadastro bem sucedido, o produto notebook tem o valor de R$4,500.00\n"
     ]
    }
   ],
   "source": [
    "precos = {\"celular\": 1500, \"camera\": 1000, \"fone de ouvido\": 800, \"monitor\": 2000}\n",
    "\n",
    "produto = input('Insira o nome de um produto: ')\n",
    "\n",
    "if produto in precos:\n",
    "    print('O valor do {} é de R${:,.2f}'.format(produto, precos[produto]))\n",
    "else:\n",
    "    decisao = input('Você deseja cadastrar esse oroduto? ')\n",
    "    texto = decisao.replace(' ','')\n",
    "\n",
    "\n",
    "    if texto.lower() == 'sim':\n",
    "        valor = float(input(\"Insira o valor desse produto: \"))\n",
    "        precos[produto] = valor\n",
    "        print('Cadastro bem sucedido, o produto {} tem o valor de R${:,.2f}'.format(produto, precos[produto]))\n",
    "    else:\n",
    "        print('Produto não encontrado, tente novamente!')\n"
   ]
  },
  {
   "cell_type": "markdown",
   "metadata": {},
   "source": [
    "### Exercício 3\n",
    "Dada a lista de preços de produtos, uma loja resolveu fazer um reajuste nos preços dos produtos. \n",
    "calcule o novo valor dos produtos com base nas seguintes regras:\n",
    "- Preços até 1.000 vão ter um reajuste de 10% (ou seja, o novo preço será 110% do preço atual)\n",
    "- Preços até maiores que 1.000 até 2.000 vão ter reajuste de 15%\n",
    "- Preços acima de 2.000 vão ter reajuste de 20%"
   ]
  },
  {
   "cell_type": "code",
   "execution_count": 12,
   "metadata": {},
   "outputs": [
    {
     "name": "stdout",
     "output_type": "stream",
     "text": [
      "O valor reajustado do celular é de R$1,725.00\n",
      "O valor reajustado do camera é de R$1,100.00\n",
      "O valor reajustado do fone de ouvido é de R$880.00\n",
      "O valor reajustado do monitor é de R$3,600.00\n"
     ]
    }
   ],
   "source": [
    "precos = {\"celular\": 1500, \"camera\": 1000, \"fone de ouvido\": 800, \"monitor\": 3000}\n",
    "\n",
    "for item in precos:\n",
    "    if precos[item] <= 1000:\n",
    "        precos[item] *= 1.1\n",
    "    elif 1000 < precos[item] <= 2000:\n",
    "        precos[item] *= 1.15\n",
    "    else:\n",
    "        precos[item] *= 1.2\n",
    "    \n",
    "    print('O valor reajustado do {} é de R${:,.2f}'.format(item, precos[item]))"
   ]
  },
  {
   "cell_type": "markdown",
   "metadata": {},
   "source": [
    "### Exercício 4\n",
    " - Edite o programa antigo para ter os 2 dicionários, o de preços originais e o de novos preços\n",
    " - Em seguida calcule o valor total de reajuste em R$ que teve entre a lista de produtos original e a lista final\n"
   ]
  },
  {
   "cell_type": "code",
   "execution_count": 21,
   "metadata": {},
   "outputs": [
    {
     "name": "stdout",
     "output_type": "stream",
     "text": [
      "O novo valor do celular é de R$ 1,725.00\n",
      "O novo valor do camera é de R$ 1,100.00\n",
      "O novo valor do fone de ouvido é de R$ 880.00\n",
      "O novo valor do monitor é de R$ 3,600.00\n",
      "O valor total de reajuste foi de R$ 1,005.00\n"
     ]
    }
   ],
   "source": [
    "precos = {\"celular\": 1500, \"camera\": 1000, \"fone de ouvido\": 800, \"monitor\": 3000}\n",
    "precos_atualizados = {}\n",
    "\n",
    "for produto in precos:\n",
    "    novo_preco = 0\n",
    "    if precos[produto] <= 1000:\n",
    "        novo_preco = precos[produto] * 1.1\n",
    "        precos_atualizados[produto] = novo_preco\n",
    "        print('O novo valor do {} é de R$ {:,.2f}'.format(produto, precos_atualizados[produto]))\n",
    "    elif 1000 < precos[produto] <= 2000:\n",
    "        novo_preco = precos[produto] * 1.15\n",
    "        precos_atualizados[produto] = novo_preco\n",
    "        print('O novo valor do {} é de R$ {:,.2f}'.format(produto, precos_atualizados[produto]))\n",
    "\n",
    "    else:\n",
    "        novo_preco = precos[produto] * 1.2\n",
    "        precos_atualizados[produto] = novo_preco\n",
    "        print('O novo valor do {} é de R$ {:,.2f}'.format(produto, precos_atualizados[produto]))\n",
    "\n",
    "valor_total_antigo = sum(precos.values())\n",
    "valor_total_novo = sum(precos_atualizados.values())\n",
    "total =  valor_total_novo - valor_total_antigo\n",
    "print('O valor total de reajuste foi de R$ {:,.2f}'.format(total))"
   ]
  },
  {
   "cell_type": "markdown",
   "metadata": {},
   "source": [
    "\n",
    "### Exercício 5\n",
    "- Uma empresa está analisando os resultados de vendas do 1º semestre de 2022 e 2023\n",
    "- Qual foi o % de crescimento de cada mês de 2023 em relação a 2022?\n",
    "- Depois de calcular isso, calcule o valor total de crescimento de 2023 em relação a 2022"
   ]
  },
  {
   "cell_type": "code",
   "execution_count": 31,
   "metadata": {},
   "outputs": [
    {
     "name": "stdout",
     "output_type": "stream",
     "text": [
      "O crescimento é de 13.3%\n",
      "O crescimento é de 25.0%\n",
      "O crescimento é de 1.8%\n",
      "O crescimento é de 8.8%\n",
      "O crescimento real é de 6500.0 com a porcentagem de 6.9%\n"
     ]
    }
   ],
   "source": [
    "vendas_22 = {\"jan\": 15000, \"fev\": 15500, \"mar\": 14000, \"abr\": 16600, \"mai\": 16300, \"jun\": 17000}\n",
    "vendas_23 = {\"jan\": 17000, \"fev\": 15000, \"mar\": 17500, \"abr\": 16900, \"mai\": 16000, \"jun\": 18500}\n",
    "\n",
    "for mes in vendas_22:\n",
    "    if vendas_23[mes] > vendas_22[mes]:\n",
    "        crescimento = vendas_23[mes] / vendas_22[mes] - 1\n",
    "        print('O crescimento é de {:.1%}'.format(crescimento))\n",
    "\n",
    "valor_2022 = sum(vendas_22.values())\n",
    "valor_2023 = sum(vendas_23.values())\n",
    "total_porcentagem = valor_2023 / valor_2022 - 1\n",
    "total = valor_2023 - valor_2022\n",
    "\n",
    "print('O crescimento real é de {:.1f} com a porcentagem de {:.1%}'.format(total, total_porcentagem))\n"
   ]
  },
  {
   "cell_type": "markdown",
   "metadata": {},
   "source": [
    "### Exercício 6 - Desafio\n",
    "- No final da reunião de apresentação dos números, seu chefe perguntou:\n",
    "- E se nos meses de 2023 que a gente vendeu menos do que 2022 a gente tivesse pelo menos empatado com 2022 (ou seja, se nos meses de 2023 em que as vendas foram menores do que o mesmo mês em 2022, o valor de vendas tivesse sido igual a 2022)\n",
    "- Qual teria sido o nosso crescimento de 2023 frente a 2022?"
   ]
  },
  {
   "cell_type": "code",
   "execution_count": 1,
   "metadata": {},
   "outputs": [
    {
     "name": "stdout",
     "output_type": "stream",
     "text": [
      "em jan, teve uma variação de 13.3%\n",
      "em fev, teve uma variação de -3.2%\n",
      "em mar, teve uma variação de 25.0%\n",
      "em abr, teve uma variação de 1.8%\n",
      "em mai, teve uma variação de -1.8%\n",
      "em jun, teve uma variação de 8.8%\n",
      "O crescimento real é de 7.7%\n"
     ]
    }
   ],
   "source": [
    "vendas_22 = {\"jan\": 15000, \"fev\": 15500, \"mar\": 14000, \"abr\": 16600, \"mai\": 16300, \"jun\": 17000}\n",
    "vendas_23 = {\"jan\": 17000, \"fev\": 15000, \"mar\": 17500, \"abr\": 16900, \"mai\": 16000, \"jun\": 18500}\n",
    "\n",
    "for meses in vendas_23:\n",
    "    valor22 = vendas_22[meses]\n",
    "    valor23 = vendas_23[meses]\n",
    "    percentual = valor23 / valor22 - 1\n",
    "    if percentual < 0:\n",
    "        vendas_23[meses] = valor22\n",
    "    print(f'em {meses}, teve uma variação de {percentual:.1%}')\n",
    "\n",
    "valor_2022 = sum(vendas_22.values())\n",
    "valor_2023 = sum(vendas_23.values())\n",
    "total_porcentagem = valor_2023 / valor_2022 - 1\n",
    "total = valor_2023 - valor_2022\n",
    "print('O crescimento real é de {:.1%}'.format(total_porcentagem))\n"
   ]
  }
 ],
 "metadata": {
  "kernelspec": {
   "display_name": "Python 3",
   "language": "python",
   "name": "python3"
  },
  "language_info": {
   "codemirror_mode": {
    "name": "ipython",
    "version": 3
   },
   "file_extension": ".py",
   "mimetype": "text/x-python",
   "name": "python",
   "nbconvert_exporter": "python",
   "pygments_lexer": "ipython3",
   "version": "3.12.4"
  }
 },
 "nbformat": 4,
 "nbformat_minor": 2
}
